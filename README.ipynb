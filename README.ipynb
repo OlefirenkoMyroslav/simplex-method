# simplex-method

The program implements simplex method for linear programming problem.Method works with any forms of equalities or inequalities transforming problem in canonical form.Simplex method works only with canonical form of linear programming problem.  

Some more information about algorithm:
A system of linear inequalities defines a polytope as a feasible region. The simplex algorithm begins at a starting vertex and moves along the edges of the polytope until it reaches the vertex of the optimal solution.
$$ a^2 + b^2 = c^2 $$

